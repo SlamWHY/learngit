{
 "cells": [
  {
   "cell_type": "code",
   "execution_count": 3,
   "metadata": {},
   "outputs": [
    {
     "name": "stdout",
     "output_type": "stream",
     "text": [
      "hello world\n"
     ]
    }
   ],
   "source": [
    "# 代码的作用\n",
    "# 1. 给人看\n",
    "# 2. 给机器看\n",
    "# 注释是给人看的内容\n",
    "'''\n",
    "多行注释\n",
    "第一行\n",
    "第二行\n",
    "'''\n",
    "print(\"hello world\") # 打印hello world\n"
   ]
  },
  {
   "cell_type": "markdown",
   "metadata": {},
   "source": [
    "# 注释\n",
    "- 机器不去执行注释内容\n",
    "- 注释一般用自然语言书写\n",
    "- 注释的写法：\n",
    "    - 行注释：以#号开头，可以单独行写，也可以在某行代码后面\n",
    "    - 块注释：好几行代码或者内容，以三个引号开始和结束，中间的内容全都忽略\n",
    "    \n",
    "    "
   ]
  },
  {
   "cell_type": "markdown",
   "metadata": {},
   "source": [
    "# 变量\n",
    "- 程序 = 数据结构 + 算法\n",
    "- 变量：可以重复使用的一个量或者叫一个代号\n",
    "- 变量名的规则\n",
    "    - 变量命名以包含数字，大小写字母，下划线或者更多，但是不推荐除了前三种内容之外的符号\n",
    "    - 数字不可以打头\n",
    "        - 如： 5man 6for 是不可以的\n",
    "        - 如 ：man4 for5 是可以的\n",
    "    - 一般在python中，以下划线开头的内容具有特殊含义，不建议使用\n",
    "        - 如： _age , _name, 理论可以但强烈不推荐，包括但不限于一个下划线开头和两个连续下划线开头\n",
    "    - 大小写不一样\n",
    "        - ForMan与forMan不是一个变量名称\n",
    "    - 推荐：\n",
    "        - 使用具有固定含义的英文单词或者缩写， srv = server, skt = socket,缩写一般以posix命名规则为主。\n",
    "        - 驼峰命名法：\n",
    "            - 名称将以单词自动连接，每个单词首字母大写\n",
    "                - 大驼峰：每个单词第一个字母均大写\n",
    "                    - 在python中给类命名使用此法\n",
    "                    - MyFirstLove,IntOne\n",
    "                - 小驼峰：第一个字母小写\n",
    "                    - 在python中给普通变量或者函数命名\n",
    "                    - myFirstLove, intOne\n",
    "                \n",
    "                - pisix写法\n",
    "                    - 多个单词之间用下划线连接\n",
    "                    - 单词全部小写\n",
    "                    - my_first_love, int_one\n",
    "     - 保留字和关键字\n",
    "         - 变量命名必须避开，不能跟关键字和保留字重复\n",
    "         - class, def, break, for"
   ]
  },
  {
   "cell_type": "code",
   "execution_count": 2,
   "metadata": {},
   "outputs": [
    {
     "name": "stdout",
     "output_type": "stream",
     "text": [
      "['False', 'None', 'True', 'and', 'as', 'assert', 'async', 'await', 'break', 'class', 'continue', 'def', 'del', 'elif', 'else', 'except', 'finally', 'for', 'from', 'global', 'if', 'import', 'in', 'is', 'lambda', 'nonlocal', 'not', 'or', 'pass', 'raise', 'return', 'try', 'while', 'with', 'yield']\n"
     ]
    }
   ],
   "source": [
    "# 查看关键字的方法\n",
    "import keyword #引入关键字模块\n",
    "# 打印出全部关键字\n",
    "print(keyword.kwlist)"
   ]
  },
  {
   "cell_type": "markdown",
   "metadata": {},
   "source": [
    "## 变量声明\n",
    "- var_name = var_value\n",
    "- var1 = var2 = var3 = var_value\n",
    "- var1, var2, var3 = v1,v2,v3"
   ]
  },
  {
   "cell_type": "code",
   "execution_count": 5,
   "metadata": {
    "scrolled": true
   },
   "outputs": [
    {
     "name": "stdout",
     "output_type": "stream",
     "text": [
      "age= 18\n",
      "18\n",
      "age1= 18\n",
      "age2= 18\n",
      "age3= 18\n",
      "age4= 12\n",
      "age5= 21\n",
      "age6= 45\n"
     ]
    }
   ],
   "source": [
    "#定义变量age，把18放入变量age中\n",
    "age = 18\n",
    "print('age=',age)\n",
    "print(18)\n",
    "\n",
    "#给age1, age2, age3放入同样一个内容或值\n",
    "age1 = age2 = age3 = 18\n",
    "print('age1=',age1)\n",
    "print('age2=',age2)\n",
    "print('age3=',age3)\n",
    "\n",
    "age4, age5, age6 = 12, 21 ,45\n",
    "print('age4=',age4)\n",
    "print('age5=',age5)\n",
    "print('age6=',age6)"
   ]
  },
  {
   "cell_type": "markdown",
   "metadata": {},
   "source": [
    "## 变量类型\n",
    "- 严格意义上将，python只有一个类型\n",
    "- 标准数据一共六种\n",
    "     - 数字类型Number\n",
    "     - 字符串类型str\n",
    "     - 列表list\n",
    "     - 元组tuple\n",
    "     - 字典Dictionary\n",
    "     - 集合 set"
   ]
  },
  {
   "cell_type": "markdown",
   "metadata": {},
   "source": [
    "## Number 数字类型"
   ]
  }
 ],
 "metadata": {
  "kernelspec": {
   "display_name": "Python 3",
   "language": "python",
   "name": "python3"
  },
  "language_info": {
   "codemirror_mode": {
    "name": "ipython",
    "version": 3
   },
   "file_extension": ".py",
   "mimetype": "text/x-python",
   "name": "python",
   "nbconvert_exporter": "python",
   "pygments_lexer": "ipython3",
   "version": "3.7.2"
  }
 },
 "nbformat": 4,
 "nbformat_minor": 2
}
