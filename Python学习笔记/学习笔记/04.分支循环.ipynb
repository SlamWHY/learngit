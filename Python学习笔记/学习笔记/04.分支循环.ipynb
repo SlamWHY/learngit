{
 "cells": [
  {
   "cell_type": "markdown",
   "metadata": {},
   "source": [
    "# 三大结构\n",
    "- 顺序\n",
    "- 分支\n",
    "- 循环"
   ]
  },
  {
   "cell_type": "markdown",
   "metadata": {},
   "source": [
    "# 分支\n",
    "- 分支的基本语法\n",
    "\n",
    "        if 条件表达式:\n",
    "            语句1\n",
    "            语句2\n",
    "            语句3\n",
    "            ......\n",
    "- 条件表达式就是计算结果必须为布尔值的表达式\n",
    "- 表达式后面的冒号不能少\n",
    "- 注意if后面出现的语句，如果属于if语句块，则必须是同一个缩进等级\n",
    "- 条件表达式结果为True执行if后面的缩进的语句快"
   ]
  },
  {
   "cell_type": "code",
   "execution_count": 7,
   "metadata": {},
   "outputs": [
    {
     "name": "stdout",
     "output_type": "stream",
     "text": [
      "去叫家长吧，孩纸\n",
      "我们不带你玩\n",
      "滚球的\n"
     ]
    }
   ],
   "source": [
    "# if语句练习\n",
    "# 如果age小于18岁，则打印“去叫家长”\n",
    "age = 17\n",
    "if age < 18:\n",
    "    print(\"去叫家长吧，孩纸\")\n",
    "    print(\"我们不带你玩\")\n",
    "    print(\"滚球的\")"
   ]
  },
  {
   "cell_type": "code",
   "execution_count": 8,
   "metadata": {},
   "outputs": [
    {
     "name": "stdout",
     "output_type": "stream",
     "text": [
      "开始上车咯，老司机们\n"
     ]
    }
   ],
   "source": [
    "# if语句练习\n",
    "# 如果age小于18岁，则打印“去叫家长”，大于18岁则跳出循环\n",
    "age = 19\n",
    "if age < 18:\n",
    "    print(\"去叫家长吧，孩纸\")\n",
    "    print(\"我们不带你玩\")\n",
    "    print(\"滚球的\")\n",
    "print(\"开始上车咯，老司机们\")"
   ]
  },
  {
   "cell_type": "code",
   "execution_count": 10,
   "metadata": {},
   "outputs": [
    {
     "name": "stdout",
     "output_type": "stream",
     "text": [
      "今天学习for循环\n",
      "开始将for循环了\n"
     ]
    }
   ],
   "source": [
    "print(\"今天学习for循环\")\n",
    "gender = \"男\"\n",
    "if gender == \"女\":\n",
    "    print(\"叔叔给你糖吃\")\n",
    "    \n",
    "print(\"开始将for循环了\")"
   ]
  },
  {
   "cell_type": "markdown",
   "metadata": {},
   "source": [
    "## 双向分支\n",
    "- if...else...语句\n",
    "\n",
    "        if 条件表达式:\n",
    "            语句1\n",
    "            语句2\n",
    "            ...\n",
    "        else :\n",
    "            语句1\n",
    "            语句2\n",
    "            ....\n",
    "- 双向分支有两个分支，当程序执行到if...else...语句的时候，一定会执行if或else中的一个，也仅执行一个\n",
    "- 缩进问题，if和else一个层级"
   ]
  },
  {
   "cell_type": "code",
   "execution_count": 14,
   "metadata": {},
   "outputs": [
    {
     "name": "stdout",
     "output_type": "stream",
     "text": [
      "请输入性别：男\n",
      "你输入的性别是：男\n",
      "来，我们纪念一下这天吧，代码敲十遍\n",
      "开始上课啦\n"
     ]
    }
   ],
   "source": [
    "# input的作用是\n",
    "# 1.在屏幕上输出括号内的字符串\n",
    "# 2.接受用户输入的内容并返回到程序\n",
    "# 3.input返回的内容一定是字符串\n",
    "gender = input(\"请输入性别：\")\n",
    "print(\"你输入的性别是：{0}\".format(gender))\n",
    "if gender == \"男\":\n",
    "    print(\"来，我们纪念一下这天吧，代码敲十遍\")\n",
    "else:\n",
    "    print(\"发糖喽发糖喽\")\n",
    "    print(\"你是女生，特殊照顾咯\")\n",
    "print(\"开始上课啦\")        "
   ]
  },
  {
   "cell_type": "code",
   "execution_count": 30,
   "metadata": {},
   "outputs": [
    {
     "name": "stdout",
     "output_type": "stream",
     "text": [
      "请输入您的分数：55\n",
      "不及格\n"
     ]
    }
   ],
   "source": [
    "# 考试成绩判断\n",
    "# 90以上：输出优秀\n",
    "# 80以上：输出良好\n",
    "# 70-80：输出中等\n",
    "# 60-70：及格\n",
    "# 60以下：不合格\n",
    "# score存放学生成绩\n",
    "# 注意input的返回类型\n",
    "score = input(\"请输入您的分数：\")\n",
    "# 需要把字符串转换为int\n",
    "score = int(score)\n",
    "\n",
    "if score >= 90:\n",
    "    print(\"优秀\")\n",
    "if score >= 80 and score < 90:\n",
    "    print(\"良好\")\n",
    "if score >=70 and score < 80:\n",
    "    print(\"中等\")\n",
    "if score >= 60 and score <70:\n",
    "    print(\"及格\")\n",
    "if score < 60:\n",
    "    print(\"不及格\")"
   ]
  },
  {
   "cell_type": "markdown",
   "metadata": {},
   "source": [
    "## 多路分支\n",
    "- 很多分支的情况，简称多路分支\n",
    "        \n",
    "        if 条件表达式：\n",
    "            语句1\n",
    "            ...\n",
    "        elif 条件表达式:\n",
    "            语句1\n",
    "            ...\n",
    "            \n",
    "        ......\n",
    "        else:\n",
    "            语句1\n",
    "            ...\n",
    "- elif可以有很多个\n",
    "- else可选\n",
    "- 多路分支只会选一个执行"
   ]
  },
  {
   "cell_type": "code",
   "execution_count": 36,
   "metadata": {},
   "outputs": [
    {
     "name": "stdout",
     "output_type": "stream",
     "text": [
      "请输入您的分数：60\n",
      "及格\n"
     ]
    }
   ],
   "source": [
    "# elif的用法（多路分支）\n",
    "# 考试成绩判断\n",
    "# 90以上：输出优秀\n",
    "# 80以上：输出良好\n",
    "# 70-80：输出中等\n",
    "# 60-70：及格\n",
    "# 60以下：不合格\n",
    "# score存放学生成绩\n",
    "# 注意input的返回类型\n",
    "score = input(\"请输入您的分数：\")\n",
    "# 需要把字符串转换为int\n",
    "score = int(score)\n",
    "\n",
    "if score >= 90:\n",
    "    print(\"优秀\")\n",
    "elif score >= 80:\n",
    "    print(\"良好\")\n",
    "elif score >=70:\n",
    "    print(\"中等\")\n",
    "elif score >= 60:\n",
    "    print(\"及格\")\n",
    "else:\n",
    "    print(\"不及格\")"
   ]
  },
  {
   "cell_type": "markdown",
   "metadata": {},
   "source": [
    "## if语句其他：\n",
    "- if语句可以嵌套使用，但不推荐\n",
    "- python没有switch-case语句"
   ]
  },
  {
   "cell_type": "markdown",
   "metadata": {},
   "source": [
    "# 循环语句\n",
    "- 重复执行某些固定的动作或者处理某些基本固定的事务\n",
    "- 分类\n",
    "    - for循环\n",
    "    - while循环\n",
    "## for循环\n",
    "- for循环\n",
    "\n",
    "        for 变量 in 序列：\n",
    "            语句1\n",
    "            语句2\n",
    "            ...\n"
   ]
  },
  {
   "cell_type": "code",
   "execution_count": 47,
   "metadata": {},
   "outputs": [
    {
     "name": "stdout",
     "output_type": "stream",
     "text": [
      "张三\n",
      "不约\n",
      "李四\n",
      "不约\n",
      "王五\n",
      "我的最爱王五出现了\n"
     ]
    }
   ],
   "source": [
    "# 打印学生列表姓名\n",
    "# 列表就是一列数字或者其他值，一般用中括号表示\n",
    "# 例如 [\"张三\",\"李四\",\"王五\",\"静静\"]\n",
    "\n",
    "for Name in [\"张三\",\"李四\",\"王五\"]:\n",
    "    print(Name)\n",
    "    if Name == '王五':\n",
    "        print(\"我的最爱{0}出现了\".format(Name))\n",
    "    else:\n",
    "        print(\"不约\")"
   ]
  },
  {
   "cell_type": "markdown",
   "metadata": {},
   "source": [
    "## range介绍\n",
    "- 生成一个数字序列\n",
    "- 具体范围可以设定"
   ]
  },
  {
   "cell_type": "code",
   "execution_count": 4,
   "metadata": {},
   "outputs": [
    {
     "name": "stdout",
     "output_type": "stream",
     "text": [
      "1\n",
      "2\n",
      "3\n",
      "4\n",
      "5\n",
      "6\n",
      "7\n",
      "8\n",
      "9\n",
      "10\n"
     ]
    }
   ],
   "source": [
    "# range练习\n",
    "# 打印从1到10的数字\n",
    "# 注意，一般在python中，如果由数字表示范围的两个数，一般时包含左边数字，不包含右边数字\n",
    "# randint是特例，他左右都包含\n",
    "# range函数在python2和python3中有严重区别\n",
    "for i in range(1,11):\n",
    "    print(i)"
   ]
  },
  {
   "cell_type": "markdown",
   "metadata": {},
   "source": [
    "## for-else语句\n",
    "- 当for循环结束的时候，会执行else语句\n",
    "- else语句是可选的"
   ]
  },
  {
   "cell_type": "code",
   "execution_count": 5,
   "metadata": {},
   "outputs": [
    {
     "name": "stdout",
     "output_type": "stream",
     "text": [
      "张三\n",
      "不约\n",
      "李四\n",
      "不约\n",
      "王五\n",
      "我的最爱王五出现了\n",
      "学生姓名不存在！\n"
     ]
    }
   ],
   "source": [
    "# for-else语句\n",
    "# 打印列表中的同学\n",
    "# 如果没有在列表中，或者列表结束了，我们需要打印提示语句\n",
    "\n",
    "# 打印学生列表姓名\n",
    "# 列表就是一列数字或者其他值，一般用中括号表示\n",
    "# 例如 [\"张三\",\"李四\",\"王五\",\"静静\"]\n",
    "\n",
    "for Name in [\"张三\",\"李四\",\"王五\"]:\n",
    "    print(Name)\n",
    "    if Name == '王五':\n",
    "        print(\"我的最爱{0}出现了\".format(Name))\n",
    "    else:\n",
    "        print(\"不约\")\n",
    "else:\n",
    "    print(\"学生姓名不存在！\")"
   ]
  },
  {
   "cell_type": "markdown",
   "metadata": {},
   "source": [
    "## for循环之break，continue, pass\n",
    "- break： 无条件结束整个循环,简称循环猝死\n",
    "- continue： 无条件结束本次循环，重新进入下一轮循环\n",
    "- pass：表示略过"
   ]
  },
  {
   "cell_type": "code",
   "execution_count": 15,
   "metadata": {},
   "outputs": [
    {
     "name": "stdout",
     "output_type": "stream",
     "text": [
      "1\n",
      "2\n",
      "3\n",
      "4\n",
      "5\n",
      "6\n",
      "我找到了\n",
      "======================================\n",
      "继续循环\n",
      "2 是偶数\n",
      "继续循环\n",
      "4 是偶数\n",
      "继续循环\n",
      "6 是偶数\n",
      "继续循环\n",
      "8 是偶数\n",
      "继续循环\n",
      "10 是偶数\n"
     ]
    }
   ],
   "source": [
    "# 在数字1-10中，寻找数字7，一旦找到就打印出来，其余则什么都不做\n",
    "# for循环中的变量表示，一般用i,k,m,n,或者indx，idx，item之类\n",
    "# 在python中，如果循环变量名称不重要，可以用下划线（_）代替\n",
    "\n",
    "for i in range(1,11):\n",
    "    if i == 7:\n",
    "        print(\"我找到了\")\n",
    "        break\n",
    "    else:\n",
    "        print(i)\n",
    "print(\"======================================\")\n",
    "# continue语句练习\n",
    "# 在数字1-10中，寻找偶数，一旦找到就打印出来\n",
    "\n",
    "for i in range(1,11):\n",
    "    if i % 2 == 1:\n",
    "        print(\"继续循环\")\n",
    "        continue\n",
    "    else:\n",
    "        print(\"{0} 是偶数\".format(i))"
   ]
  }
 ],
 "metadata": {
  "kernelspec": {
   "display_name": "python3",
   "language": "python",
   "name": "python3"
  },
  "language_info": {
   "codemirror_mode": {
    "name": "ipython",
    "version": 2
   },
   "file_extension": ".py",
   "mimetype": "text/x-python",
   "name": "python",
   "nbconvert_exporter": "python",
   "pygments_lexer": "ipython2",
   "version": "2.7.11"
  }
 },
 "nbformat": 4,
 "nbformat_minor": 2
}
