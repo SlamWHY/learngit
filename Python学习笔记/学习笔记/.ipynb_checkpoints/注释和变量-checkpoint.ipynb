{
 "cells": [
  {
   "cell_type": "code",
   "execution_count": 3,
   "metadata": {},
   "outputs": [
    {
     "name": "stdout",
     "output_type": "stream",
     "text": [
      "hello world\n"
     ]
    }
   ],
   "source": [
    "# 代码的作用\n",
    "# 1. 给人看\n",
    "# 2. 给机器看\n",
    "# 注释是给人看的内容\n",
    "'''\n",
    "多行注释\n",
    "第一行\n",
    "第二行\n",
    "'''\n",
    "print(\"hello world\") # 打印hello world\n"
   ]
  },
  {
   "cell_type": "markdown",
   "metadata": {},
   "source": [
    "# 注释\n",
    "- 机器不去执行注释内容\n",
    "- 注释一般用自然语言书写\n",
    "- 注释的写法：\n",
    "    - 行注释：以#号开头，可以单独行写，也可以在某行代码后面\n",
    "    - 块注释：好几行代码或者内容，以三个引号开始和结束，中间的内容全都忽略\n",
    "    \n",
    "    "
   ]
  },
  {
   "cell_type": "markdown",
   "metadata": {},
   "source": [
    "# 变量\n",
    "- 程序 = 数据结构 + 算法\n",
    "- 变量：可以重复使用的一个量或者叫一个代号\n",
    "- 变量名的规则\n",
    "    - 变量命名以包含数字，大小写字母，下划线或者更多，但是不推荐除了前三种内容之外的符号\n",
    "    - 数字不可以打头\n",
    "        - 如： 5man 6for 是不可以的\n",
    "        - 如 ：man4 for5 是可以的\n",
    "    - 一般在python中，以下划线开头的内容具有特殊含义，不建议使用\n",
    "        - 如： _age , _name, 理论可以但强烈不推荐，包括但不限于一个下划线开头和两个连续下划线开头\n",
    "    - 大小写不一样\n",
    "        - ForMan与forMan不是一个变量名称\n",
    "    - 推荐：\n",
    "        - 使用具有固定含义的英文单词或者缩写， srv = server, skt = socket,缩写一般以posix命名规则为主。\n",
    "        - 驼峰命名法：\n",
    "            - 名称将以单词自动连接，每个单词首字母大写\n",
    "                - 大驼峰：每个单词第一个字母均大写\n",
    "                    - 在python中给类命名使用此法\n",
    "                    - MyFirstLove,IntOne\n",
    "                - 小驼峰：第一个字母小写\n",
    "                    - 在python中给普通变量或者函数命名\n",
    "                    - myFirstLove, intOne\n",
    "                \n",
    "                - pisix写法\n",
    "                    - 多个单词之间用下划线连接\n",
    "                    - 单词全部小写\n",
    "                    - my_first_love, int_one"
   ]
  }
 ],
 "metadata": {
  "kernelspec": {
   "display_name": "python3",
   "language": "python",
   "name": "python3"
  },
  "language_info": {
   "codemirror_mode": {
    "name": "ipython",
    "version": 2
   },
   "file_extension": ".py",
   "mimetype": "text/x-python",
   "name": "python",
   "nbconvert_exporter": "python",
   "pygments_lexer": "ipython2",
   "version": "2.7.11"
  }
 },
 "nbformat": 4,
 "nbformat_minor": 2
}
